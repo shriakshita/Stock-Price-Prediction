{
  "nbformat": 4,
  "nbformat_minor": 0,
  "metadata": {
    "colab": {
      "name": "STOCK PRICE PREDICTION  .ipynb",
      "provenance": [],
      "collapsed_sections": [],
      "toc_visible": true
    },
    "kernelspec": {
      "name": "python3",
      "display_name": "Python 3"
    },
    "language_info": {
      "name": "python"
    }
  },
  "cells": [
    {
      "cell_type": "markdown",
      "metadata": {
        "id": "xoTopf7b-BbG"
      },
      "source": [
        "##**STOCK PRICE PREDICTION**\n",
        "\n",
        "\n",
        "**Dataset**: \n",
        "\n",
        "[Dataset](https://www.kaggle.com/tamilselvanarjunan/stockprices)"
      ]
    },
    {
      "cell_type": "markdown",
      "metadata": {
        "id": "3VRX_YoFAIf1"
      },
      "source": [
        "**ABSTRACT**\n",
        "\n",
        "\n",
        "A stock's price indicates its current value to buyers and sellers.\n",
        "The stock's intrinsic value may be higher or lower.\n",
        "The goal of the stock investor is to identify stocks that are currently undervalued by the market.\n",
        "\n",
        "There is a common saying: “Don’t judge a book by its cover.” An equally valid truism for the investor could be: “Don’t judge a stock by its share price.” Many people incorrectly assume that a stock with a low dollar price is cheap, while another one with a heftier price is expensive."
      ]
    },
    {
      "cell_type": "markdown",
      "metadata": {
        "id": "_GPb8d5rwqnj"
      },
      "source": [
        "**About The Project**"
      ]
    },
    {
      "cell_type": "markdown",
      "metadata": {
        "id": "6XswLEumvaaP"
      },
      "source": [
        "In this project I have built a model(LSTM) which is going to  predict the stock price of dataset taken.This Dataset has a shape of 10,000 rows and 10 columns of 19 Years past data and features are **date,close,open,high,low,volume,dividends,closeunadj** It has the data of the companies like XOM(ExxonMobil) and WMT(Walmart) . \n",
        "\n",
        "**WHY LSTM IS CHOOSEN? (LONG SHORT TERM MEMORY)** \n",
        "\n",
        "LSTMs are widely used for sequence prediction problems and have proven to be extremely effective. The reason they work so well is because LSTM is able to store past information that is important, and forget the information that is not. "
      ]
    },
    {
      "cell_type": "markdown",
      "metadata": {
        "id": "UmEDOQEp7zGL"
      },
      "source": [
        "##**STEPS FOLLOWED**\n",
        "\n",
        "\n",
        "1.   Data Collection\n",
        "2.   Data Preprocessing\n",
        "3.   Built LSTM model\n",
        "4.   Predicted the test data and plotted the output\n",
        "\n",
        "\n",
        "\n",
        "\n"
      ]
    },
    {
      "cell_type": "markdown",
      "metadata": {
        "id": "JivjroYkB7_G"
      },
      "source": [
        "**Import the Required Libaries**\n",
        "\n",
        "*   **Math** libary provides us the access to some mathematical functions.\n",
        "*   **Numpy** libary provides us access to work with arrays.\n",
        "*   **Pandas** package provides us access to aide or work with loading and    manipulating with the data.\n",
        "*   **Sklearn** package provides us a selection of efficient tools for machine learning and statistical modeling including classification, regression, clustering and dimensionality reduction\n",
        "*  **MinMax Scalar** it normalizes the input features/variables features will be transformed into the range [0,1]\n",
        "*  **keras** it is used for  building Neural Networks\n",
        "*  **Sequential** is used for initializing the neural network\n",
        "*  **Dense** is used for adding a densely connected neural network layer.\n",
        "*  **Droput** is used for adding dense layers which prevents the overfitting.\n",
        "*  **matplotlib** is a libary used for plotting and data visualization.\n",
        "\n"
      ]
    },
    {
      "cell_type": "code",
      "metadata": {
        "id": "mkIqntOeUGwK"
      },
      "source": [
        "import math\n",
        "import numpy as np\n",
        "import pandas as pd\n",
        "from sklearn.preprocessing import MinMaxScaler\n",
        "from tensorflow.keras.models import Sequential \n",
        "from tensorflow.keras.layers import Dense,LSTM,Dropout\n",
        "import matplotlib.pyplot as plt\n",
        "from sklearn.metrics import f1_score\n",
        "plt.style.use('fivethirtyeight')"
      ],
      "execution_count": 1,
      "outputs": []
    },
    {
      "cell_type": "markdown",
      "metadata": {
        "id": "TXtebbCCH_f4"
      },
      "source": [
        "**Importing the Dataset from drive**"
      ]
    },
    {
      "cell_type": "markdown",
      "metadata": {
        "id": "WXSYJI9f-Vq5"
      },
      "source": [
        "#Data Collection\n"
      ]
    },
    {
      "cell_type": "code",
      "metadata": {
        "colab": {
          "base_uri": "https://localhost:8080/"
        },
        "id": "YTLnSK2cvKpk",
        "outputId": "34640db0-4c07-41f3-da34-d83641f85be4"
      },
      "source": [
        "from google.colab import drive\n",
        "drive.mount('/content/drive')"
      ],
      "execution_count": 2,
      "outputs": [
        {
          "output_type": "stream",
          "text": [
            "Drive already mounted at /content/drive; to attempt to forcibly remount, call drive.mount(\"/content/drive\", force_remount=True).\n"
          ],
          "name": "stdout"
        }
      ]
    },
    {
      "cell_type": "code",
      "metadata": {
        "id": "7KeUm1zPvk2m"
      },
      "source": [
        "path = \"/content/drive/MyDrive/SHARADAR-Stock.csv\"\n",
        "df = pd.read_csv(path)"
      ],
      "execution_count": 3,
      "outputs": []
    },
    {
      "cell_type": "markdown",
      "metadata": {
        "id": "S_BTeDuWIJy6"
      },
      "source": [
        "**Displaying the dataset**"
      ]
    },
    {
      "cell_type": "code",
      "metadata": {
        "colab": {
          "base_uri": "https://localhost:8080/",
          "height": 417
        },
        "id": "pSiaRNwfv8Vy",
        "outputId": "874b9312-52cb-49f5-cf22-fb37e0a0d8c3"
      },
      "source": [
        "df"
      ],
      "execution_count": 4,
      "outputs": [
        {
          "output_type": "execute_result",
          "data": {
            "text/html": [
              "<div>\n",
              "<style scoped>\n",
              "    .dataframe tbody tr th:only-of-type {\n",
              "        vertical-align: middle;\n",
              "    }\n",
              "\n",
              "    .dataframe tbody tr th {\n",
              "        vertical-align: top;\n",
              "    }\n",
              "\n",
              "    .dataframe thead th {\n",
              "        text-align: right;\n",
              "    }\n",
              "</style>\n",
              "<table border=\"1\" class=\"dataframe\">\n",
              "  <thead>\n",
              "    <tr style=\"text-align: right;\">\n",
              "      <th></th>\n",
              "      <th>ticker</th>\n",
              "      <th>date</th>\n",
              "      <th>open</th>\n",
              "      <th>high</th>\n",
              "      <th>low</th>\n",
              "      <th>close</th>\n",
              "      <th>volume</th>\n",
              "      <th>dividends</th>\n",
              "      <th>closeunadj</th>\n",
              "      <th>lastupdated</th>\n",
              "    </tr>\n",
              "  </thead>\n",
              "  <tbody>\n",
              "    <tr>\n",
              "      <th>0</th>\n",
              "      <td>XOM</td>\n",
              "      <td>9/21/2018</td>\n",
              "      <td>85.01</td>\n",
              "      <td>85.43</td>\n",
              "      <td>84.52</td>\n",
              "      <td>85.17</td>\n",
              "      <td>26196749</td>\n",
              "      <td>0.0</td>\n",
              "      <td>85.17</td>\n",
              "      <td>9/21/2018</td>\n",
              "    </tr>\n",
              "    <tr>\n",
              "      <th>1</th>\n",
              "      <td>XOM</td>\n",
              "      <td>9/20/2018</td>\n",
              "      <td>84.86</td>\n",
              "      <td>85.34</td>\n",
              "      <td>84.54</td>\n",
              "      <td>84.82</td>\n",
              "      <td>10621638</td>\n",
              "      <td>0.0</td>\n",
              "      <td>84.82</td>\n",
              "      <td>9/20/2018</td>\n",
              "    </tr>\n",
              "    <tr>\n",
              "      <th>2</th>\n",
              "      <td>XOM</td>\n",
              "      <td>9/19/2018</td>\n",
              "      <td>83.64</td>\n",
              "      <td>84.77</td>\n",
              "      <td>83.64</td>\n",
              "      <td>84.63</td>\n",
              "      <td>9787326</td>\n",
              "      <td>0.0</td>\n",
              "      <td>84.63</td>\n",
              "      <td>9/19/2018</td>\n",
              "    </tr>\n",
              "    <tr>\n",
              "      <th>3</th>\n",
              "      <td>XOM</td>\n",
              "      <td>9/18/2018</td>\n",
              "      <td>83.90</td>\n",
              "      <td>84.13</td>\n",
              "      <td>83.45</td>\n",
              "      <td>83.63</td>\n",
              "      <td>8799790</td>\n",
              "      <td>0.0</td>\n",
              "      <td>83.63</td>\n",
              "      <td>9/18/2018</td>\n",
              "    </tr>\n",
              "    <tr>\n",
              "      <th>4</th>\n",
              "      <td>XOM</td>\n",
              "      <td>9/17/2018</td>\n",
              "      <td>83.00</td>\n",
              "      <td>83.61</td>\n",
              "      <td>82.99</td>\n",
              "      <td>83.41</td>\n",
              "      <td>7898451</td>\n",
              "      <td>0.0</td>\n",
              "      <td>83.41</td>\n",
              "      <td>9/17/2018</td>\n",
              "    </tr>\n",
              "    <tr>\n",
              "      <th>...</th>\n",
              "      <td>...</td>\n",
              "      <td>...</td>\n",
              "      <td>...</td>\n",
              "      <td>...</td>\n",
              "      <td>...</td>\n",
              "      <td>...</td>\n",
              "      <td>...</td>\n",
              "      <td>...</td>\n",
              "      <td>...</td>\n",
              "      <td>...</td>\n",
              "    </tr>\n",
              "    <tr>\n",
              "      <th>9995</th>\n",
              "      <td>WMT</td>\n",
              "      <td>9/24/1999</td>\n",
              "      <td>46.56</td>\n",
              "      <td>47.50</td>\n",
              "      <td>46.19</td>\n",
              "      <td>46.50</td>\n",
              "      <td>6339600</td>\n",
              "      <td>0.0</td>\n",
              "      <td>46.50</td>\n",
              "      <td>2/11/2018</td>\n",
              "    </tr>\n",
              "    <tr>\n",
              "      <th>9996</th>\n",
              "      <td>WMT</td>\n",
              "      <td>9/23/1999</td>\n",
              "      <td>47.63</td>\n",
              "      <td>47.81</td>\n",
              "      <td>46.63</td>\n",
              "      <td>46.69</td>\n",
              "      <td>5696900</td>\n",
              "      <td>0.0</td>\n",
              "      <td>46.69</td>\n",
              "      <td>2/11/2018</td>\n",
              "    </tr>\n",
              "    <tr>\n",
              "      <th>9997</th>\n",
              "      <td>WMT</td>\n",
              "      <td>9/22/1999</td>\n",
              "      <td>45.81</td>\n",
              "      <td>47.69</td>\n",
              "      <td>45.56</td>\n",
              "      <td>47.25</td>\n",
              "      <td>5396500</td>\n",
              "      <td>0.0</td>\n",
              "      <td>47.25</td>\n",
              "      <td>2/11/2018</td>\n",
              "    </tr>\n",
              "    <tr>\n",
              "      <th>9998</th>\n",
              "      <td>WMT</td>\n",
              "      <td>9/21/1999</td>\n",
              "      <td>45.00</td>\n",
              "      <td>46.06</td>\n",
              "      <td>44.75</td>\n",
              "      <td>45.75</td>\n",
              "      <td>5844200</td>\n",
              "      <td>0.0</td>\n",
              "      <td>45.75</td>\n",
              "      <td>2/11/2018</td>\n",
              "    </tr>\n",
              "    <tr>\n",
              "      <th>9999</th>\n",
              "      <td>WMT</td>\n",
              "      <td>9/20/1999</td>\n",
              "      <td>46.56</td>\n",
              "      <td>47.25</td>\n",
              "      <td>46.19</td>\n",
              "      <td>46.19</td>\n",
              "      <td>3053600</td>\n",
              "      <td>0.0</td>\n",
              "      <td>46.19</td>\n",
              "      <td>2/11/2018</td>\n",
              "    </tr>\n",
              "  </tbody>\n",
              "</table>\n",
              "<p>10000 rows × 10 columns</p>\n",
              "</div>"
            ],
            "text/plain": [
              "     ticker       date   open  ...  dividends  closeunadj  lastupdated\n",
              "0       XOM  9/21/2018  85.01  ...        0.0       85.17    9/21/2018\n",
              "1       XOM  9/20/2018  84.86  ...        0.0       84.82    9/20/2018\n",
              "2       XOM  9/19/2018  83.64  ...        0.0       84.63    9/19/2018\n",
              "3       XOM  9/18/2018  83.90  ...        0.0       83.63    9/18/2018\n",
              "4       XOM  9/17/2018  83.00  ...        0.0       83.41    9/17/2018\n",
              "...     ...        ...    ...  ...        ...         ...          ...\n",
              "9995    WMT  9/24/1999  46.56  ...        0.0       46.50    2/11/2018\n",
              "9996    WMT  9/23/1999  47.63  ...        0.0       46.69    2/11/2018\n",
              "9997    WMT  9/22/1999  45.81  ...        0.0       47.25    2/11/2018\n",
              "9998    WMT  9/21/1999  45.00  ...        0.0       45.75    2/11/2018\n",
              "9999    WMT  9/20/1999  46.56  ...        0.0       46.19    2/11/2018\n",
              "\n",
              "[10000 rows x 10 columns]"
            ]
          },
          "metadata": {
            "tags": []
          },
          "execution_count": 4
        }
      ]
    },
    {
      "cell_type": "markdown",
      "metadata": {
        "id": "U1-uUphaIQVC"
      },
      "source": [
        "**Checking the shape of the dataset**"
      ]
    },
    {
      "cell_type": "code",
      "metadata": {
        "colab": {
          "base_uri": "https://localhost:8080/"
        },
        "id": "qFPqVd75v_lk",
        "outputId": "2ff73395-29c1-4396-c793-7b66b2826e40"
      },
      "source": [
        "df.shape"
      ],
      "execution_count": 5,
      "outputs": [
        {
          "output_type": "execute_result",
          "data": {
            "text/plain": [
              "(10000, 10)"
            ]
          },
          "metadata": {
            "tags": []
          },
          "execution_count": 5
        }
      ]
    },
    {
      "cell_type": "markdown",
      "metadata": {
        "id": "qX2K6nmdIcvx"
      },
      "source": [
        "**Knowing the types of the features**"
      ]
    },
    {
      "cell_type": "code",
      "metadata": {
        "colab": {
          "base_uri": "https://localhost:8080/"
        },
        "id": "E8Fn4bCV1H-Y",
        "outputId": "adcae238-23c1-4ea3-b25c-c4f3e81971be"
      },
      "source": [
        "df.dtypes"
      ],
      "execution_count": 6,
      "outputs": [
        {
          "output_type": "execute_result",
          "data": {
            "text/plain": [
              "ticker          object\n",
              "date            object\n",
              "open           float64\n",
              "high           float64\n",
              "low            float64\n",
              "close          float64\n",
              "volume           int64\n",
              "dividends      float64\n",
              "closeunadj     float64\n",
              "lastupdated     object\n",
              "dtype: object"
            ]
          },
          "metadata": {
            "tags": []
          },
          "execution_count": 6
        }
      ]
    },
    {
      "cell_type": "code",
      "metadata": {
        "id": "e5D5Uz7iOxHU",
        "colab": {
          "base_uri": "https://localhost:8080/"
        },
        "outputId": "1e97092d-9c16-475b-d061-f90a008de55a"
      },
      "source": [
        "df.info()"
      ],
      "execution_count": 7,
      "outputs": [
        {
          "output_type": "stream",
          "text": [
            "<class 'pandas.core.frame.DataFrame'>\n",
            "RangeIndex: 10000 entries, 0 to 9999\n",
            "Data columns (total 10 columns):\n",
            " #   Column       Non-Null Count  Dtype  \n",
            "---  ------       --------------  -----  \n",
            " 0   ticker       10000 non-null  object \n",
            " 1   date         10000 non-null  object \n",
            " 2   open         10000 non-null  float64\n",
            " 3   high         10000 non-null  float64\n",
            " 4   low          10000 non-null  float64\n",
            " 5   close        10000 non-null  float64\n",
            " 6   volume       10000 non-null  int64  \n",
            " 7   dividends    10000 non-null  float64\n",
            " 8   closeunadj   10000 non-null  float64\n",
            " 9   lastupdated  10000 non-null  object \n",
            "dtypes: float64(6), int64(1), object(3)\n",
            "memory usage: 781.4+ KB\n"
          ],
          "name": "stdout"
        }
      ]
    },
    {
      "cell_type": "markdown",
      "metadata": {
        "id": "vAdVpl5aJuuA"
      },
      "source": [
        "#Data Prepocessing"
      ]
    },
    {
      "cell_type": "markdown",
      "metadata": {
        "id": "CD4WuBCxItzs"
      },
      "source": [
        "**Checking if there are any NULL values in the dataset**"
      ]
    },
    {
      "cell_type": "code",
      "metadata": {
        "colab": {
          "base_uri": "https://localhost:8080/"
        },
        "id": "3lufTBFRPc31",
        "outputId": "b7869254-2558-4b13-b254-44d0c664b324"
      },
      "source": [
        "df.isnull().values.any()"
      ],
      "execution_count": 8,
      "outputs": [
        {
          "output_type": "execute_result",
          "data": {
            "text/plain": [
              "False"
            ]
          },
          "metadata": {
            "tags": []
          },
          "execution_count": 8
        }
      ]
    },
    {
      "cell_type": "markdown",
      "metadata": {
        "id": "IQV89p0AI2kA"
      },
      "source": [
        "**Printing the Feature names**"
      ]
    },
    {
      "cell_type": "code",
      "metadata": {
        "colab": {
          "base_uri": "https://localhost:8080/"
        },
        "id": "28DoYLKjQC6h",
        "outputId": "1be48f30-3f99-4435-aaab-36bb60841f0d"
      },
      "source": [
        "print(df.columns)"
      ],
      "execution_count": 9,
      "outputs": [
        {
          "output_type": "stream",
          "text": [
            "Index(['ticker', 'date', 'open', 'high', 'low', 'close', 'volume', 'dividends',\n",
            "       'closeunadj', 'lastupdated'],\n",
            "      dtype='object')\n"
          ],
          "name": "stdout"
        }
      ]
    },
    {
      "cell_type": "code",
      "metadata": {
        "colab": {
          "base_uri": "https://localhost:8080/"
        },
        "id": "pd5M2OtdRZ47",
        "outputId": "d9c2d2da-b725-4ba6-d962-15a7295b439b"
      },
      "source": [
        "for ticker in df:\n",
        "    print(df[ticker].unique())"
      ],
      "execution_count": 10,
      "outputs": [
        {
          "output_type": "stream",
          "text": [
            "['XOM' 'WMT']\n",
            "['9/21/2018' '9/20/2018' '9/19/2018' ... '1/5/1998' '1/2/1998'\n",
            " '12/31/1997']\n",
            "[85.01 84.86 83.64 ... 62.5  57.19 54.81]\n",
            "[85.43 85.34 84.77 ... 56.44 57.88 51.69]\n",
            "[84.52 84.54 83.64 ... 64.63 63.19 56.44]\n",
            "[85.17 84.82 84.63 ... 56.75 54.88 46.31]\n",
            "[26196749 10621638  9787326 ...  5396500  5844200  3053600]\n",
            "[0.    0.82  0.77  0.75  0.73  0.69  0.63  0.57  0.47  0.44  0.42  0.4\n",
            " 0.35  0.32  0.29  0.27  0.25  0.23  0.01  0.22  0.205 0.52  0.51  0.5\n",
            " 0.49  0.48  0.398 0.365 0.302 0.273 0.237 0.168 0.15  0.13  0.09  0.075\n",
            " 0.07  0.06  0.05 ]\n",
            "[85.17 84.82 84.63 ... 56.75 54.88 46.31]\n",
            "['9/21/2018' '9/20/2018' '9/19/2018' '9/18/2018' '9/17/2018' '9/14/2018'\n",
            " '9/13/2018' '9/12/2018' '9/11/2018' '9/10/2018' '9/7/2018' '9/6/2018'\n",
            " '9/5/2018' '9/4/2018' '8/31/2018' '8/28/2018' '8/22/2018' '8/21/2018'\n",
            " '8/20/2018' '8/17/2018' '8/16/2018' '8/15/2018' '8/14/2018' '8/13/2018'\n",
            " '8/10/2018' '8/9/2018' '8/8/2018' '8/7/2018' '8/6/2018' '8/3/2018'\n",
            " '8/2/2018' '8/1/2018' '7/31/2018' '7/30/2018' '7/27/2018' '7/26/2018'\n",
            " '7/25/2018' '7/24/2018' '7/23/2018' '7/20/2018' '7/19/2018' '7/18/2018'\n",
            " '7/17/2018' '7/16/2018' '7/13/2018' '7/12/2018' '7/11/2018' '7/10/2018'\n",
            " '7/9/2018' '7/6/2018' '7/5/2018' '7/3/2018' '7/2/2018' '6/29/2018'\n",
            " '6/28/2018' '6/27/2018' '6/26/2018' '6/25/2018' '6/22/2018' '6/21/2018'\n",
            " '6/20/2018' '6/19/2018' '6/18/2018' '6/15/2018' '6/14/2018' '6/13/2018'\n",
            " '6/12/2018' '6/11/2018' '6/8/2018' '6/7/2018' '6/6/2018' '6/5/2018'\n",
            " '6/4/2018' '6/1/2018' '5/31/2018' '5/30/2018' '5/29/2018' '5/25/2018'\n",
            " '5/24/2018' '5/23/2018' '5/22/2018' '5/21/2018' '5/18/2018' '5/17/2018'\n",
            " '5/16/2018' '5/15/2018' '5/14/2018' '5/11/2018' '5/10/2018' '5/9/2018'\n",
            " '5/8/2018' '5/7/2018' '5/4/2018' '5/3/2018' '5/2/2018' '5/1/2018'\n",
            " '4/30/2018' '4/27/2018' '4/26/2018' '4/25/2018' '4/24/2018' '4/23/2018'\n",
            " '4/20/2018' '4/19/2018' '4/18/2018' '4/17/2018' '4/16/2018' '4/13/2018'\n",
            " '4/12/2018' '4/11/2018' '4/10/2018' '4/9/2018' '4/6/2018' '4/5/2018'\n",
            " '4/4/2018' '4/3/2018' '4/2/2018' '3/29/2018' '3/28/2018' '3/27/2018'\n",
            " '3/26/2018' '3/23/2018' '3/22/2018' '3/21/2018' '3/20/2018' '3/19/2018'\n",
            " '3/16/2018' '3/15/2018' '3/14/2018' '3/13/2018' '3/12/2018' '3/9/2018'\n",
            " '3/8/2018' '3/7/2018' '3/6/2018' '3/5/2018' '3/2/2018' '3/1/2018'\n",
            " '2/28/2018' '2/27/2018' '2/26/2018' '2/23/2018' '2/22/2018' '2/21/2018'\n",
            " '2/20/2018' '2/16/2018' '2/15/2018' '2/14/2018' '2/13/2018' '2/12/2018'\n",
            " '2/9/2018' '2/8/2018' '2/7/2018' '2/6/2018' '2/5/2018' '2/2/2018'\n",
            " '2/1/2018' '1/31/2018' '1/30/2018' '1/29/2018' '1/26/2018' '1/25/2018'\n",
            " '1/24/2018' '1/23/2018' '1/22/2018' '1/19/2018' '1/18/2018' '1/17/2018'\n",
            " '1/16/2018' '1/12/2018' '1/11/2018' '2/11/2018']\n"
          ],
          "name": "stdout"
        }
      ]
    },
    {
      "cell_type": "markdown",
      "metadata": {
        "id": "rFSLMmzvI_CC"
      },
      "source": [
        "**Dropping the Features which are not useful**"
      ]
    },
    {
      "cell_type": "code",
      "metadata": {
        "colab": {
          "base_uri": "https://localhost:8080/",
          "height": 417
        },
        "id": "68_CLWNtwO84",
        "outputId": "29ea8d79-8fa5-496a-b662-8d892ecced40"
      },
      "source": [
        "df.drop(['dividends','lastupdated','ticker'],axis=1)"
      ],
      "execution_count": 11,
      "outputs": [
        {
          "output_type": "execute_result",
          "data": {
            "text/html": [
              "<div>\n",
              "<style scoped>\n",
              "    .dataframe tbody tr th:only-of-type {\n",
              "        vertical-align: middle;\n",
              "    }\n",
              "\n",
              "    .dataframe tbody tr th {\n",
              "        vertical-align: top;\n",
              "    }\n",
              "\n",
              "    .dataframe thead th {\n",
              "        text-align: right;\n",
              "    }\n",
              "</style>\n",
              "<table border=\"1\" class=\"dataframe\">\n",
              "  <thead>\n",
              "    <tr style=\"text-align: right;\">\n",
              "      <th></th>\n",
              "      <th>date</th>\n",
              "      <th>open</th>\n",
              "      <th>high</th>\n",
              "      <th>low</th>\n",
              "      <th>close</th>\n",
              "      <th>volume</th>\n",
              "      <th>closeunadj</th>\n",
              "    </tr>\n",
              "  </thead>\n",
              "  <tbody>\n",
              "    <tr>\n",
              "      <th>0</th>\n",
              "      <td>9/21/2018</td>\n",
              "      <td>85.01</td>\n",
              "      <td>85.43</td>\n",
              "      <td>84.52</td>\n",
              "      <td>85.17</td>\n",
              "      <td>26196749</td>\n",
              "      <td>85.17</td>\n",
              "    </tr>\n",
              "    <tr>\n",
              "      <th>1</th>\n",
              "      <td>9/20/2018</td>\n",
              "      <td>84.86</td>\n",
              "      <td>85.34</td>\n",
              "      <td>84.54</td>\n",
              "      <td>84.82</td>\n",
              "      <td>10621638</td>\n",
              "      <td>84.82</td>\n",
              "    </tr>\n",
              "    <tr>\n",
              "      <th>2</th>\n",
              "      <td>9/19/2018</td>\n",
              "      <td>83.64</td>\n",
              "      <td>84.77</td>\n",
              "      <td>83.64</td>\n",
              "      <td>84.63</td>\n",
              "      <td>9787326</td>\n",
              "      <td>84.63</td>\n",
              "    </tr>\n",
              "    <tr>\n",
              "      <th>3</th>\n",
              "      <td>9/18/2018</td>\n",
              "      <td>83.90</td>\n",
              "      <td>84.13</td>\n",
              "      <td>83.45</td>\n",
              "      <td>83.63</td>\n",
              "      <td>8799790</td>\n",
              "      <td>83.63</td>\n",
              "    </tr>\n",
              "    <tr>\n",
              "      <th>4</th>\n",
              "      <td>9/17/2018</td>\n",
              "      <td>83.00</td>\n",
              "      <td>83.61</td>\n",
              "      <td>82.99</td>\n",
              "      <td>83.41</td>\n",
              "      <td>7898451</td>\n",
              "      <td>83.41</td>\n",
              "    </tr>\n",
              "    <tr>\n",
              "      <th>...</th>\n",
              "      <td>...</td>\n",
              "      <td>...</td>\n",
              "      <td>...</td>\n",
              "      <td>...</td>\n",
              "      <td>...</td>\n",
              "      <td>...</td>\n",
              "      <td>...</td>\n",
              "    </tr>\n",
              "    <tr>\n",
              "      <th>9995</th>\n",
              "      <td>9/24/1999</td>\n",
              "      <td>46.56</td>\n",
              "      <td>47.50</td>\n",
              "      <td>46.19</td>\n",
              "      <td>46.50</td>\n",
              "      <td>6339600</td>\n",
              "      <td>46.50</td>\n",
              "    </tr>\n",
              "    <tr>\n",
              "      <th>9996</th>\n",
              "      <td>9/23/1999</td>\n",
              "      <td>47.63</td>\n",
              "      <td>47.81</td>\n",
              "      <td>46.63</td>\n",
              "      <td>46.69</td>\n",
              "      <td>5696900</td>\n",
              "      <td>46.69</td>\n",
              "    </tr>\n",
              "    <tr>\n",
              "      <th>9997</th>\n",
              "      <td>9/22/1999</td>\n",
              "      <td>45.81</td>\n",
              "      <td>47.69</td>\n",
              "      <td>45.56</td>\n",
              "      <td>47.25</td>\n",
              "      <td>5396500</td>\n",
              "      <td>47.25</td>\n",
              "    </tr>\n",
              "    <tr>\n",
              "      <th>9998</th>\n",
              "      <td>9/21/1999</td>\n",
              "      <td>45.00</td>\n",
              "      <td>46.06</td>\n",
              "      <td>44.75</td>\n",
              "      <td>45.75</td>\n",
              "      <td>5844200</td>\n",
              "      <td>45.75</td>\n",
              "    </tr>\n",
              "    <tr>\n",
              "      <th>9999</th>\n",
              "      <td>9/20/1999</td>\n",
              "      <td>46.56</td>\n",
              "      <td>47.25</td>\n",
              "      <td>46.19</td>\n",
              "      <td>46.19</td>\n",
              "      <td>3053600</td>\n",
              "      <td>46.19</td>\n",
              "    </tr>\n",
              "  </tbody>\n",
              "</table>\n",
              "<p>10000 rows × 7 columns</p>\n",
              "</div>"
            ],
            "text/plain": [
              "           date   open   high    low  close    volume  closeunadj\n",
              "0     9/21/2018  85.01  85.43  84.52  85.17  26196749       85.17\n",
              "1     9/20/2018  84.86  85.34  84.54  84.82  10621638       84.82\n",
              "2     9/19/2018  83.64  84.77  83.64  84.63   9787326       84.63\n",
              "3     9/18/2018  83.90  84.13  83.45  83.63   8799790       83.63\n",
              "4     9/17/2018  83.00  83.61  82.99  83.41   7898451       83.41\n",
              "...         ...    ...    ...    ...    ...       ...         ...\n",
              "9995  9/24/1999  46.56  47.50  46.19  46.50   6339600       46.50\n",
              "9996  9/23/1999  47.63  47.81  46.63  46.69   5696900       46.69\n",
              "9997  9/22/1999  45.81  47.69  45.56  47.25   5396500       47.25\n",
              "9998  9/21/1999  45.00  46.06  44.75  45.75   5844200       45.75\n",
              "9999  9/20/1999  46.56  47.25  46.19  46.19   3053600       46.19\n",
              "\n",
              "[10000 rows x 7 columns]"
            ]
          },
          "metadata": {
            "tags": []
          },
          "execution_count": 11
        }
      ]
    },
    {
      "cell_type": "code",
      "metadata": {
        "colab": {
          "base_uri": "https://localhost:8080/",
          "height": 417
        },
        "id": "M3UPajxGxcLG",
        "outputId": "15df5f33-6716-4419-ab0e-3899aefe0e61"
      },
      "source": [
        "df.date=pd.to_datetime(df.date)\n",
        "df"
      ],
      "execution_count": 12,
      "outputs": [
        {
          "output_type": "execute_result",
          "data": {
            "text/html": [
              "<div>\n",
              "<style scoped>\n",
              "    .dataframe tbody tr th:only-of-type {\n",
              "        vertical-align: middle;\n",
              "    }\n",
              "\n",
              "    .dataframe tbody tr th {\n",
              "        vertical-align: top;\n",
              "    }\n",
              "\n",
              "    .dataframe thead th {\n",
              "        text-align: right;\n",
              "    }\n",
              "</style>\n",
              "<table border=\"1\" class=\"dataframe\">\n",
              "  <thead>\n",
              "    <tr style=\"text-align: right;\">\n",
              "      <th></th>\n",
              "      <th>ticker</th>\n",
              "      <th>date</th>\n",
              "      <th>open</th>\n",
              "      <th>high</th>\n",
              "      <th>low</th>\n",
              "      <th>close</th>\n",
              "      <th>volume</th>\n",
              "      <th>dividends</th>\n",
              "      <th>closeunadj</th>\n",
              "      <th>lastupdated</th>\n",
              "    </tr>\n",
              "  </thead>\n",
              "  <tbody>\n",
              "    <tr>\n",
              "      <th>0</th>\n",
              "      <td>XOM</td>\n",
              "      <td>2018-09-21</td>\n",
              "      <td>85.01</td>\n",
              "      <td>85.43</td>\n",
              "      <td>84.52</td>\n",
              "      <td>85.17</td>\n",
              "      <td>26196749</td>\n",
              "      <td>0.0</td>\n",
              "      <td>85.17</td>\n",
              "      <td>9/21/2018</td>\n",
              "    </tr>\n",
              "    <tr>\n",
              "      <th>1</th>\n",
              "      <td>XOM</td>\n",
              "      <td>2018-09-20</td>\n",
              "      <td>84.86</td>\n",
              "      <td>85.34</td>\n",
              "      <td>84.54</td>\n",
              "      <td>84.82</td>\n",
              "      <td>10621638</td>\n",
              "      <td>0.0</td>\n",
              "      <td>84.82</td>\n",
              "      <td>9/20/2018</td>\n",
              "    </tr>\n",
              "    <tr>\n",
              "      <th>2</th>\n",
              "      <td>XOM</td>\n",
              "      <td>2018-09-19</td>\n",
              "      <td>83.64</td>\n",
              "      <td>84.77</td>\n",
              "      <td>83.64</td>\n",
              "      <td>84.63</td>\n",
              "      <td>9787326</td>\n",
              "      <td>0.0</td>\n",
              "      <td>84.63</td>\n",
              "      <td>9/19/2018</td>\n",
              "    </tr>\n",
              "    <tr>\n",
              "      <th>3</th>\n",
              "      <td>XOM</td>\n",
              "      <td>2018-09-18</td>\n",
              "      <td>83.90</td>\n",
              "      <td>84.13</td>\n",
              "      <td>83.45</td>\n",
              "      <td>83.63</td>\n",
              "      <td>8799790</td>\n",
              "      <td>0.0</td>\n",
              "      <td>83.63</td>\n",
              "      <td>9/18/2018</td>\n",
              "    </tr>\n",
              "    <tr>\n",
              "      <th>4</th>\n",
              "      <td>XOM</td>\n",
              "      <td>2018-09-17</td>\n",
              "      <td>83.00</td>\n",
              "      <td>83.61</td>\n",
              "      <td>82.99</td>\n",
              "      <td>83.41</td>\n",
              "      <td>7898451</td>\n",
              "      <td>0.0</td>\n",
              "      <td>83.41</td>\n",
              "      <td>9/17/2018</td>\n",
              "    </tr>\n",
              "    <tr>\n",
              "      <th>...</th>\n",
              "      <td>...</td>\n",
              "      <td>...</td>\n",
              "      <td>...</td>\n",
              "      <td>...</td>\n",
              "      <td>...</td>\n",
              "      <td>...</td>\n",
              "      <td>...</td>\n",
              "      <td>...</td>\n",
              "      <td>...</td>\n",
              "      <td>...</td>\n",
              "    </tr>\n",
              "    <tr>\n",
              "      <th>9995</th>\n",
              "      <td>WMT</td>\n",
              "      <td>1999-09-24</td>\n",
              "      <td>46.56</td>\n",
              "      <td>47.50</td>\n",
              "      <td>46.19</td>\n",
              "      <td>46.50</td>\n",
              "      <td>6339600</td>\n",
              "      <td>0.0</td>\n",
              "      <td>46.50</td>\n",
              "      <td>2/11/2018</td>\n",
              "    </tr>\n",
              "    <tr>\n",
              "      <th>9996</th>\n",
              "      <td>WMT</td>\n",
              "      <td>1999-09-23</td>\n",
              "      <td>47.63</td>\n",
              "      <td>47.81</td>\n",
              "      <td>46.63</td>\n",
              "      <td>46.69</td>\n",
              "      <td>5696900</td>\n",
              "      <td>0.0</td>\n",
              "      <td>46.69</td>\n",
              "      <td>2/11/2018</td>\n",
              "    </tr>\n",
              "    <tr>\n",
              "      <th>9997</th>\n",
              "      <td>WMT</td>\n",
              "      <td>1999-09-22</td>\n",
              "      <td>45.81</td>\n",
              "      <td>47.69</td>\n",
              "      <td>45.56</td>\n",
              "      <td>47.25</td>\n",
              "      <td>5396500</td>\n",
              "      <td>0.0</td>\n",
              "      <td>47.25</td>\n",
              "      <td>2/11/2018</td>\n",
              "    </tr>\n",
              "    <tr>\n",
              "      <th>9998</th>\n",
              "      <td>WMT</td>\n",
              "      <td>1999-09-21</td>\n",
              "      <td>45.00</td>\n",
              "      <td>46.06</td>\n",
              "      <td>44.75</td>\n",
              "      <td>45.75</td>\n",
              "      <td>5844200</td>\n",
              "      <td>0.0</td>\n",
              "      <td>45.75</td>\n",
              "      <td>2/11/2018</td>\n",
              "    </tr>\n",
              "    <tr>\n",
              "      <th>9999</th>\n",
              "      <td>WMT</td>\n",
              "      <td>1999-09-20</td>\n",
              "      <td>46.56</td>\n",
              "      <td>47.25</td>\n",
              "      <td>46.19</td>\n",
              "      <td>46.19</td>\n",
              "      <td>3053600</td>\n",
              "      <td>0.0</td>\n",
              "      <td>46.19</td>\n",
              "      <td>2/11/2018</td>\n",
              "    </tr>\n",
              "  </tbody>\n",
              "</table>\n",
              "<p>10000 rows × 10 columns</p>\n",
              "</div>"
            ],
            "text/plain": [
              "     ticker       date   open  ...  dividends  closeunadj  lastupdated\n",
              "0       XOM 2018-09-21  85.01  ...        0.0       85.17    9/21/2018\n",
              "1       XOM 2018-09-20  84.86  ...        0.0       84.82    9/20/2018\n",
              "2       XOM 2018-09-19  83.64  ...        0.0       84.63    9/19/2018\n",
              "3       XOM 2018-09-18  83.90  ...        0.0       83.63    9/18/2018\n",
              "4       XOM 2018-09-17  83.00  ...        0.0       83.41    9/17/2018\n",
              "...     ...        ...    ...  ...        ...         ...          ...\n",
              "9995    WMT 1999-09-24  46.56  ...        0.0       46.50    2/11/2018\n",
              "9996    WMT 1999-09-23  47.63  ...        0.0       46.69    2/11/2018\n",
              "9997    WMT 1999-09-22  45.81  ...        0.0       47.25    2/11/2018\n",
              "9998    WMT 1999-09-21  45.00  ...        0.0       45.75    2/11/2018\n",
              "9999    WMT 1999-09-20  46.56  ...        0.0       46.19    2/11/2018\n",
              "\n",
              "[10000 rows x 10 columns]"
            ]
          },
          "metadata": {
            "tags": []
          },
          "execution_count": 12
        }
      ]
    },
    {
      "cell_type": "markdown",
      "metadata": {
        "id": "8S4m3XfvJ_CU"
      },
      "source": [
        "**Displaying only the date_day from date**"
      ]
    },
    {
      "cell_type": "code",
      "metadata": {
        "id": "b9mTgLkjx_Ie",
        "colab": {
          "base_uri": "https://localhost:8080/"
        },
        "outputId": "24aa146d-b7b5-45be-98a8-b23e252bf006"
      },
      "source": [
        "date_day=df['date'].dt.day\n",
        "print(date_day)"
      ],
      "execution_count": 13,
      "outputs": [
        {
          "output_type": "stream",
          "text": [
            "0       21\n",
            "1       20\n",
            "2       19\n",
            "3       18\n",
            "4       17\n",
            "        ..\n",
            "9995    24\n",
            "9996    23\n",
            "9997    22\n",
            "9998    21\n",
            "9999    20\n",
            "Name: date, Length: 10000, dtype: int64\n"
          ],
          "name": "stdout"
        }
      ]
    },
    {
      "cell_type": "markdown",
      "metadata": {
        "id": "podZSiTJKGHp"
      },
      "source": [
        "**Displaying only year from date**"
      ]
    },
    {
      "cell_type": "code",
      "metadata": {
        "id": "gz0PcpqNVgUq",
        "colab": {
          "base_uri": "https://localhost:8080/"
        },
        "outputId": "04233a26-95d1-47f1-9684-aa4c0543ea80"
      },
      "source": [
        "k=df['date'].dt.year\n",
        "print(k)"
      ],
      "execution_count": 14,
      "outputs": [
        {
          "output_type": "stream",
          "text": [
            "0       2018\n",
            "1       2018\n",
            "2       2018\n",
            "3       2018\n",
            "4       2018\n",
            "        ... \n",
            "9995    1999\n",
            "9996    1999\n",
            "9997    1999\n",
            "9998    1999\n",
            "9999    1999\n",
            "Name: date, Length: 10000, dtype: int64\n"
          ],
          "name": "stdout"
        }
      ]
    },
    {
      "cell_type": "markdown",
      "metadata": {
        "id": "bz_dPWRva4OD"
      },
      "source": [
        "**visualizing the data of closing price data**"
      ]
    },
    {
      "cell_type": "code",
      "metadata": {
        "id": "74rCOx0LKkib",
        "colab": {
          "base_uri": "https://localhost:8080/",
          "height": 522
        },
        "outputId": "23659660-e369-4e06-8aad-ae35e8caed71"
      },
      "source": [
        "\n",
        "plt.figure(figsize=(16,8))\n",
        "plt.title('Close Price History of the data',fontsize=20)\n",
        "plt.plot(df['close'],color='green')\n",
        "plt.xlabel('Year',fontsize=18)\n",
        "plt.ylabel('Close Price USD ($)',fontsize=18)\n",
        "plt.show()"
      ],
      "execution_count": 15,
      "outputs": [
        {
          "output_type": "display_data",
          "data": {
            "image/png": "[encoded data removed]",
            "text/plain": [
              "<Figure size 1152x576 with 1 Axes>"
            ]
          },
          "metadata": {
            "tags": [],
            "needs_background": "light"
          }
        }
      ]
    },
    {
      "cell_type": "markdown",
      "metadata": {
        "id": "qmSFY7uta_0s"
      },
      "source": [
        "**Creating a dataframe with only close**"
      ]
    },
    {
      "cell_type": "code",
      "metadata": {
        "id": "JPzSzSliEJL6"
      },
      "source": [
        "\n",
        "data=df.filter(['close'])\n"
      ],
      "execution_count": 16,
      "outputs": []
    },
    {
      "cell_type": "markdown",
      "metadata": {
        "id": "Nb-0QRrwbROZ"
      },
      "source": [
        "**Converting the data to numpy array**"
      ]
    },
    {
      "cell_type": "code",
      "metadata": {
        "id": "bFhp278nbJ5Y"
      },
      "source": [
        "dataset=data.values"
      ],
      "execution_count": 17,
      "outputs": []
    },
    {
      "cell_type": "markdown",
      "metadata": {
        "id": "Q5mpYc8PbYyA"
      },
      "source": [
        "**Get the number of rows to train the model**"
      ]
    },
    {
      "cell_type": "code",
      "metadata": {
        "colab": {
          "base_uri": "https://localhost:8080/"
        },
        "id": "Le_7hpwgbJ16",
        "outputId": "df51a9a1-de0c-4a0a-c90c-ccec5232f7ad"
      },
      "source": [
        "training_data_len=math.ceil(len(dataset)*0.7)\n",
        "training_data_len"
      ],
      "execution_count": 18,
      "outputs": [
        {
          "output_type": "execute_result",
          "data": {
            "text/plain": [
              "7000"
            ]
          },
          "metadata": {
            "tags": []
          },
          "execution_count": 18
        }
      ]
    },
    {
      "cell_type": "markdown",
      "metadata": {
        "id": "-UJBd9EvbjcU"
      },
      "source": [
        "**Scaling the data**"
      ]
    },
    {
      "cell_type": "code",
      "metadata": {
        "colab": {
          "base_uri": "https://localhost:8080/"
        },
        "id": "ARiC-jkIYmw3",
        "outputId": "9ef6da4f-2cd0-4823-e983-55178020d383"
      },
      "source": [
        "scaler=MinMaxScaler(feature_range=(0,1))\n",
        "scale_data=scaler.fit_transform(dataset)\n",
        "\n",
        "scale_data"
      ],
      "execution_count": 19,
      "outputs": [
        {
          "output_type": "execute_result",
          "data": {
            "text/plain": [
              "array([[0.69708641],\n",
              "       [0.69273778],\n",
              "       [0.69037709],\n",
              "       ...,\n",
              "       [0.22594272],\n",
              "       [0.20730571],\n",
              "       [0.21277257]])"
            ]
          },
          "metadata": {
            "tags": []
          },
          "execution_count": 19
        }
      ]
    },
    {
      "cell_type": "markdown",
      "metadata": {
        "id": "1dZks6oZ5k6y"
      },
      "source": [
        "**Creating the data**"
      ]
    },
    {
      "cell_type": "code",
      "metadata": {
        "id": "sYZZHmvCV8y3",
        "colab": {
          "base_uri": "https://localhost:8080/"
        },
        "outputId": "732d660b-4a7c-4579-9b29-217a7e4686e0"
      },
      "source": [
        "#creating the training dataset and scaled training dataset\n",
        "train_data=scale_data[0:training_data_len,:]\n",
        "\n",
        "#split the data into x_train and y_train datasets\n",
        "x_train=[]\n",
        "y_train=[]\n",
        "\n",
        "for i in range (70,len(train_data)):\n",
        "  x_train.append(train_data[i-70:i,0])\n",
        "  y_train.append(train_data[i,0])\n",
        "  if i<=71:\n",
        "    print(x_train)\n",
        "    print(y_train)\n",
        "    print()"
      ],
      "execution_count": 20,
      "outputs": [
        {
          "output_type": "stream",
          "text": [
            "[array([0.69708641, 0.69273778, 0.69037709, 0.67795241, 0.67521898,\n",
            "       0.66913089, 0.66167609, 0.67174008, 0.66838541, 0.65409704,\n",
            "       0.655588  , 0.63856619, 0.6497484 , 0.636454  , 0.63496304,\n",
            "       0.63918743, 0.64353606, 0.63632975, 0.63782071, 0.62812947,\n",
            "       0.62142014, 0.63235385, 0.61831397, 0.61806548, 0.61123191,\n",
            "       0.60800149, 0.59483134, 0.61185314, 0.61495931, 0.62564453,\n",
            "       0.63682674, 0.64192085, 0.64863018, 0.63508728, 0.63533578,\n",
            "       0.63173262, 0.63769647, 0.6516121 , 0.65446978, 0.65670622,\n",
            "       0.68553147, 0.67745543, 0.67024911, 0.65024539, 0.65024539,\n",
            "       0.65782444, 0.66043362, 0.66155184, 0.66378828, 0.67397652,\n",
            "       0.66627322, 0.66503075, 0.67832515, 0.6688824 , 0.66180034,\n",
            "       0.66155184, 0.66068211, 0.65471827, 0.66677021, 0.65732745,\n",
            "       0.65409704, 0.64080263, 0.62962043, 0.64999689, 0.62899919,\n",
            "       0.63844195, 0.64154811, 0.64303908, 0.64105113, 0.65633348])]\n",
            "[0.651612101633845]\n",
            "\n",
            "[array([0.69708641, 0.69273778, 0.69037709, 0.67795241, 0.67521898,\n",
            "       0.66913089, 0.66167609, 0.67174008, 0.66838541, 0.65409704,\n",
            "       0.655588  , 0.63856619, 0.6497484 , 0.636454  , 0.63496304,\n",
            "       0.63918743, 0.64353606, 0.63632975, 0.63782071, 0.62812947,\n",
            "       0.62142014, 0.63235385, 0.61831397, 0.61806548, 0.61123191,\n",
            "       0.60800149, 0.59483134, 0.61185314, 0.61495931, 0.62564453,\n",
            "       0.63682674, 0.64192085, 0.64863018, 0.63508728, 0.63533578,\n",
            "       0.63173262, 0.63769647, 0.6516121 , 0.65446978, 0.65670622,\n",
            "       0.68553147, 0.67745543, 0.67024911, 0.65024539, 0.65024539,\n",
            "       0.65782444, 0.66043362, 0.66155184, 0.66378828, 0.67397652,\n",
            "       0.66627322, 0.66503075, 0.67832515, 0.6688824 , 0.66180034,\n",
            "       0.66155184, 0.66068211, 0.65471827, 0.66677021, 0.65732745,\n",
            "       0.65409704, 0.64080263, 0.62962043, 0.64999689, 0.62899919,\n",
            "       0.63844195, 0.64154811, 0.64303908, 0.64105113, 0.65633348]), array([0.69273778, 0.69037709, 0.67795241, 0.67521898, 0.66913089,\n",
            "       0.66167609, 0.67174008, 0.66838541, 0.65409704, 0.655588  ,\n",
            "       0.63856619, 0.6497484 , 0.636454  , 0.63496304, 0.63918743,\n",
            "       0.64353606, 0.63632975, 0.63782071, 0.62812947, 0.62142014,\n",
            "       0.63235385, 0.61831397, 0.61806548, 0.61123191, 0.60800149,\n",
            "       0.59483134, 0.61185314, 0.61495931, 0.62564453, 0.63682674,\n",
            "       0.64192085, 0.64863018, 0.63508728, 0.63533578, 0.63173262,\n",
            "       0.63769647, 0.6516121 , 0.65446978, 0.65670622, 0.68553147,\n",
            "       0.67745543, 0.67024911, 0.65024539, 0.65024539, 0.65782444,\n",
            "       0.66043362, 0.66155184, 0.66378828, 0.67397652, 0.66627322,\n",
            "       0.66503075, 0.67832515, 0.6688824 , 0.66180034, 0.66155184,\n",
            "       0.66068211, 0.65471827, 0.66677021, 0.65732745, 0.65409704,\n",
            "       0.64080263, 0.62962043, 0.64999689, 0.62899919, 0.63844195,\n",
            "       0.64154811, 0.64303908, 0.64105113, 0.65633348, 0.6516121 ])]\n",
            "[0.651612101633845, 0.662918556252718]\n",
            "\n"
          ],
          "name": "stdout"
        }
      ]
    },
    {
      "cell_type": "code",
      "metadata": {
        "id": "0tQ-KdgIWL4P"
      },
      "source": [
        "#convert the x_train and y_train to numpy arrays\n",
        "x_train,y_train=np.array(x_train),np.array(y_train)\n"
      ],
      "execution_count": 21,
      "outputs": []
    },
    {
      "cell_type": "code",
      "metadata": {
        "id": "Z3N-DLFehB8f",
        "colab": {
          "base_uri": "https://localhost:8080/"
        },
        "outputId": "af28c680-05b2-4a53-b3ee-dd23b3fc4bd2"
      },
      "source": [
        "#reshaping the data\n",
        "x_train=np.reshape(x_train,(x_train.shape[0],x_train.shape[1],1))\n",
        "x_train.shape\n"
      ],
      "execution_count": 22,
      "outputs": [
        {
          "output_type": "execute_result",
          "data": {
            "text/plain": [
              "(6930, 70, 1)"
            ]
          },
          "metadata": {
            "tags": []
          },
          "execution_count": 22
        }
      ]
    },
    {
      "cell_type": "markdown",
      "metadata": {
        "id": "LC9KTTWv96Zy"
      },
      "source": [
        "#Building the LSTM"
      ]
    },
    {
      "cell_type": "code",
      "metadata": {
        "id": "gTlDNSXa29QU"
      },
      "source": [
        "model=Sequential()\n",
        "model.add(LSTM(50,return_sequences=True,input_shape=(x_train.shape[1],1)))\n",
        "model.add(Dropout(0.2))\n",
        "model.add(LSTM(50,return_sequences=False))\n",
        "model.add(Dense(25))\n",
        "model.add(Dense(1))"
      ],
      "execution_count": 23,
      "outputs": []
    },
    {
      "cell_type": "code",
      "metadata": {
        "id": "OhlQnWSk-zhP",
        "colab": {
          "base_uri": "https://localhost:8080/"
        },
        "outputId": "d5e7b464-9953-4323-890a-38aa8440ad55"
      },
      "source": [
        "model.summary()"
      ],
      "execution_count": 24,
      "outputs": [
        {
          "output_type": "stream",
          "text": [
            "Model: \"sequential\"\n",
            "_________________________________________________________________\n",
            "Layer (type)                 Output Shape              Param #   \n",
            "=================================================================\n",
            "lstm (LSTM)                  (None, 70, 50)            10400     \n",
            "_________________________________________________________________\n",
            "dropout (Dropout)            (None, 70, 50)            0         \n",
            "_________________________________________________________________\n",
            "lstm_1 (LSTM)                (None, 50)                20200     \n",
            "_________________________________________________________________\n",
            "dense (Dense)                (None, 25)                1275      \n",
            "_________________________________________________________________\n",
            "dense_1 (Dense)              (None, 1)                 26        \n",
            "=================================================================\n",
            "Total params: 31,901\n",
            "Trainable params: 31,901\n",
            "Non-trainable params: 0\n",
            "_________________________________________________________________\n"
          ],
          "name": "stdout"
        }
      ]
    },
    {
      "cell_type": "markdown",
      "metadata": {
        "id": "R-icvR0L554s"
      },
      "source": [
        "**Compiling the model**"
      ]
    },
    {
      "cell_type": "code",
      "metadata": {
        "id": "DMyP2rQdkKdH"
      },
      "source": [
        "model.compile(optimizer='adam',loss='mean_squared_error',)"
      ],
      "execution_count": 25,
      "outputs": []
    },
    {
      "cell_type": "markdown",
      "metadata": {
        "id": "RQbqS0Uo5-84"
      },
      "source": [
        "#Training the model"
      ]
    },
    {
      "cell_type": "code",
      "metadata": {
        "id": "x3jbNjw_yNo9",
        "colab": {
          "base_uri": "https://localhost:8080/"
        },
        "outputId": "c54f7afa-46e7-4538-8302-2319eae0a0cb"
      },
      "source": [
        "#train the model\n",
        "model.fit(x_train,y_train,batch_size=32,epochs=100)"
      ],
      "execution_count": 34,
      "outputs": [
        {
          "output_type": "stream",
          "text": [
            "Epoch 1/100\n",
            "217/217 [==============================] - 15s 67ms/step - loss: 4.0423e-04\n",
            "Epoch 2/100\n",
            "217/217 [==============================] - 14s 66ms/step - loss: 4.1046e-04\n",
            "Epoch 3/100\n",
            "217/217 [==============================] - 14s 66ms/step - loss: 3.9236e-04\n",
            "Epoch 4/100\n",
            "217/217 [==============================] - 14s 66ms/step - loss: 3.6497e-04\n",
            "Epoch 5/100\n",
            "217/217 [==============================] - 14s 67ms/step - loss: 3.5588e-04\n",
            "Epoch 6/100\n",
            "217/217 [==============================] - 14s 66ms/step - loss: 3.6705e-04\n",
            "Epoch 7/100\n",
            "217/217 [==============================] - 14s 66ms/step - loss: 3.7289e-04\n",
            "Epoch 8/100\n",
            "217/217 [==============================] - 14s 67ms/step - loss: 3.6872e-04\n",
            "Epoch 9/100\n",
            "217/217 [==============================] - 14s 66ms/step - loss: 3.7857e-04\n",
            "Epoch 10/100\n",
            "217/217 [==============================] - 14s 67ms/step - loss: 3.8131e-04\n",
            "Epoch 11/100\n",
            "217/217 [==============================] - 15s 68ms/step - loss: 3.4301e-04\n",
            "Epoch 12/100\n",
            "217/217 [==============================] - 14s 67ms/step - loss: 3.5381e-04\n",
            "Epoch 13/100\n",
            "217/217 [==============================] - 14s 66ms/step - loss: 3.4314e-04\n",
            "Epoch 14/100\n",
            "217/217 [==============================] - 14s 66ms/step - loss: 3.4710e-04\n",
            "Epoch 15/100\n",
            "217/217 [==============================] - 14s 67ms/step - loss: 3.3386e-04\n",
            "Epoch 16/100\n",
            "217/217 [==============================] - 14s 66ms/step - loss: 3.5731e-04\n",
            "Epoch 17/100\n",
            "217/217 [==============================] - 15s 67ms/step - loss: 3.5134e-04\n",
            "Epoch 18/100\n",
            "217/217 [==============================] - 15s 67ms/step - loss: 3.5835e-04\n",
            "Epoch 19/100\n",
            "217/217 [==============================] - 14s 66ms/step - loss: 3.4340e-04\n",
            "Epoch 20/100\n",
            "217/217 [==============================] - 15s 67ms/step - loss: 3.5838e-04\n",
            "Epoch 21/100\n",
            "217/217 [==============================] - 15s 67ms/step - loss: 3.5692e-04\n",
            "Epoch 22/100\n",
            "217/217 [==============================] - 15s 67ms/step - loss: 3.3582e-04\n",
            "Epoch 23/100\n",
            "217/217 [==============================] - 15s 67ms/step - loss: 3.4265e-04\n",
            "Epoch 24/100\n",
            "217/217 [==============================] - 15s 67ms/step - loss: 3.5067e-04\n",
            "Epoch 25/100\n",
            "217/217 [==============================] - 15s 68ms/step - loss: 3.3214e-04\n",
            "Epoch 26/100\n",
            "217/217 [==============================] - 15s 68ms/step - loss: 3.4113e-04\n",
            "Epoch 27/100\n",
            "217/217 [==============================] - 15s 67ms/step - loss: 3.5139e-04\n",
            "Epoch 28/100\n",
            "217/217 [==============================] - 15s 68ms/step - loss: 3.4943e-04\n",
            "Epoch 29/100\n",
            "217/217 [==============================] - 15s 68ms/step - loss: 3.3813e-04\n",
            "Epoch 30/100\n",
            "217/217 [==============================] - 15s 67ms/step - loss: 3.2221e-04\n",
            "Epoch 31/100\n",
            "217/217 [==============================] - 15s 67ms/step - loss: 3.3545e-04\n",
            "Epoch 32/100\n",
            "217/217 [==============================] - 15s 67ms/step - loss: 3.2203e-04\n",
            "Epoch 33/100\n",
            "217/217 [==============================] - 15s 67ms/step - loss: 3.2114e-04\n",
            "Epoch 34/100\n",
            "217/217 [==============================] - 15s 68ms/step - loss: 3.2526e-04\n",
            "Epoch 35/100\n",
            "217/217 [==============================] - 15s 67ms/step - loss: 3.1780e-04\n",
            "Epoch 36/100\n",
            "217/217 [==============================] - 15s 68ms/step - loss: 3.2825e-04\n",
            "Epoch 37/100\n",
            "217/217 [==============================] - 15s 67ms/step - loss: 3.2909e-04\n",
            "Epoch 38/100\n",
            "217/217 [==============================] - 15s 68ms/step - loss: 3.2631e-04\n",
            "Epoch 39/100\n",
            "217/217 [==============================] - 15s 67ms/step - loss: 3.3759e-04\n",
            "Epoch 40/100\n",
            "217/217 [==============================] - 15s 68ms/step - loss: 3.4368e-04\n",
            "Epoch 41/100\n",
            "217/217 [==============================] - 15s 68ms/step - loss: 3.3041e-04\n",
            "Epoch 42/100\n",
            "217/217 [==============================] - 15s 68ms/step - loss: 3.3074e-04\n",
            "Epoch 43/100\n",
            "217/217 [==============================] - 15s 67ms/step - loss: 3.3001e-04\n",
            "Epoch 44/100\n",
            "217/217 [==============================] - 15s 67ms/step - loss: 3.3871e-04\n",
            "Epoch 45/100\n",
            "217/217 [==============================] - 15s 68ms/step - loss: 3.1690e-04\n",
            "Epoch 46/100\n",
            "217/217 [==============================] - 15s 67ms/step - loss: 3.2333e-04\n",
            "Epoch 47/100\n",
            "217/217 [==============================] - 15s 68ms/step - loss: 3.0906e-04\n",
            "Epoch 48/100\n",
            "217/217 [==============================] - 15s 67ms/step - loss: 3.6317e-04\n",
            "Epoch 49/100\n",
            "217/217 [==============================] - 15s 67ms/step - loss: 3.0786e-04\n",
            "Epoch 50/100\n",
            "217/217 [==============================] - 15s 67ms/step - loss: 3.1596e-04\n",
            "Epoch 51/100\n",
            "217/217 [==============================] - 15s 68ms/step - loss: 3.1833e-04\n",
            "Epoch 52/100\n",
            "217/217 [==============================] - 15s 67ms/step - loss: 3.3570e-04\n",
            "Epoch 53/100\n",
            "217/217 [==============================] - 15s 68ms/step - loss: 3.1964e-04\n",
            "Epoch 54/100\n",
            "217/217 [==============================] - 15s 68ms/step - loss: 3.1901e-04\n",
            "Epoch 55/100\n",
            "217/217 [==============================] - 15s 68ms/step - loss: 3.2849e-04\n",
            "Epoch 56/100\n",
            "217/217 [==============================] - 15s 68ms/step - loss: 3.3017e-04\n",
            "Epoch 57/100\n",
            "217/217 [==============================] - 15s 68ms/step - loss: 3.2052e-04\n",
            "Epoch 58/100\n",
            "217/217 [==============================] - 15s 68ms/step - loss: 3.2865e-04\n",
            "Epoch 59/100\n",
            "217/217 [==============================] - 15s 69ms/step - loss: 3.1345e-04\n",
            "Epoch 60/100\n",
            "217/217 [==============================] - 15s 68ms/step - loss: 3.1796e-04\n",
            "Epoch 61/100\n",
            "217/217 [==============================] - 15s 68ms/step - loss: 3.2096e-04\n",
            "Epoch 62/100\n",
            "217/217 [==============================] - 15s 67ms/step - loss: 3.2006e-04\n",
            "Epoch 63/100\n",
            "217/217 [==============================] - 15s 68ms/step - loss: 3.1435e-04\n",
            "Epoch 64/100\n",
            "217/217 [==============================] - 15s 67ms/step - loss: 3.1931e-04\n",
            "Epoch 65/100\n",
            "217/217 [==============================] - 15s 68ms/step - loss: 3.2109e-04\n",
            "Epoch 66/100\n",
            "217/217 [==============================] - 15s 68ms/step - loss: 3.1301e-04\n",
            "Epoch 67/100\n",
            "217/217 [==============================] - 15s 68ms/step - loss: 3.1115e-04\n",
            "Epoch 68/100\n",
            "217/217 [==============================] - 15s 68ms/step - loss: 3.1381e-04\n",
            "Epoch 69/100\n",
            "217/217 [==============================] - 15s 68ms/step - loss: 3.1633e-04\n",
            "Epoch 70/100\n",
            "217/217 [==============================] - 15s 68ms/step - loss: 3.1281e-04\n",
            "Epoch 71/100\n",
            "217/217 [==============================] - 15s 67ms/step - loss: 3.0995e-04\n",
            "Epoch 72/100\n",
            "217/217 [==============================] - 15s 67ms/step - loss: 3.0370e-04\n",
            "Epoch 73/100\n",
            "217/217 [==============================] - 15s 67ms/step - loss: 3.1351e-04\n",
            "Epoch 74/100\n",
            "217/217 [==============================] - 15s 68ms/step - loss: 3.1895e-04\n",
            "Epoch 75/100\n",
            "217/217 [==============================] - 15s 67ms/step - loss: 3.2093e-04\n",
            "Epoch 76/100\n",
            "217/217 [==============================] - 15s 67ms/step - loss: 3.3254e-04\n",
            "Epoch 77/100\n",
            "217/217 [==============================] - 15s 68ms/step - loss: 3.1896e-04\n",
            "Epoch 78/100\n",
            "217/217 [==============================] - 15s 68ms/step - loss: 3.3198e-04\n",
            "Epoch 79/100\n",
            "217/217 [==============================] - 14s 67ms/step - loss: 3.1253e-04\n",
            "Epoch 80/100\n",
            "217/217 [==============================] - 15s 68ms/step - loss: 3.0305e-04\n",
            "Epoch 81/100\n",
            "217/217 [==============================] - 15s 68ms/step - loss: 3.0458e-04\n",
            "Epoch 82/100\n",
            "217/217 [==============================] - 15s 67ms/step - loss: 3.1298e-04\n",
            "Epoch 83/100\n",
            "217/217 [==============================] - 15s 68ms/step - loss: 3.2397e-04\n",
            "Epoch 84/100\n",
            "217/217 [==============================] - 15s 67ms/step - loss: 3.2211e-04\n",
            "Epoch 85/100\n",
            "217/217 [==============================] - 15s 67ms/step - loss: 3.1925e-04\n",
            "Epoch 86/100\n",
            "217/217 [==============================] - 15s 68ms/step - loss: 3.1872e-04\n",
            "Epoch 87/100\n",
            "217/217 [==============================] - 15s 68ms/step - loss: 3.2276e-04\n",
            "Epoch 88/100\n",
            "217/217 [==============================] - 15s 68ms/step - loss: 3.2232e-04\n",
            "Epoch 89/100\n",
            "217/217 [==============================] - 15s 68ms/step - loss: 3.1026e-04\n",
            "Epoch 90/100\n",
            "217/217 [==============================] - 15s 68ms/step - loss: 3.0722e-04\n",
            "Epoch 91/100\n",
            "217/217 [==============================] - 15s 68ms/step - loss: 3.0345e-04\n",
            "Epoch 92/100\n",
            "217/217 [==============================] - 15s 68ms/step - loss: 3.2693e-04\n",
            "Epoch 93/100\n",
            "217/217 [==============================] - 15s 68ms/step - loss: 2.8946e-04\n",
            "Epoch 94/100\n",
            "217/217 [==============================] - 15s 69ms/step - loss: 2.9917e-04\n",
            "Epoch 95/100\n",
            "217/217 [==============================] - 15s 69ms/step - loss: 3.1940e-04\n",
            "Epoch 96/100\n",
            "217/217 [==============================] - 15s 68ms/step - loss: 3.0396e-04\n",
            "Epoch 97/100\n",
            "217/217 [==============================] - 15s 69ms/step - loss: 3.1731e-04\n",
            "Epoch 98/100\n",
            "217/217 [==============================] - 15s 69ms/step - loss: 3.1236e-04\n",
            "Epoch 99/100\n",
            "217/217 [==============================] - 15s 68ms/step - loss: 3.1857e-04\n",
            "Epoch 100/100\n",
            "217/217 [==============================] - 15s 68ms/step - loss: 3.1397e-04\n"
          ],
          "name": "stdout"
        },
        {
          "output_type": "execute_result",
          "data": {
            "text/plain": [
              "<tensorflow.python.keras.callbacks.History at 0x7f12a21fb090>"
            ]
          },
          "metadata": {
            "tags": []
          },
          "execution_count": 34
        }
      ]
    },
    {
      "cell_type": "code",
      "metadata": {
        "id": "SK14bpyGQ57h"
      },
      "source": [
        "#create the testing dataset \n",
        "test_data=scale_data[training_data_len -70:,:]\n",
        "\n",
        "#create the data sets x_test and y_test\n",
        "x_test=[]\n",
        "y_test=dataset[training_data_len:,:]\n",
        "for i in range(70,len(test_data)):\n",
        "  x_test.append(test_data[i-70:i,0])\n"
      ],
      "execution_count": 35,
      "outputs": []
    },
    {
      "cell_type": "code",
      "metadata": {
        "id": "vof7npKNUSyL"
      },
      "source": [
        "#convert the data to a numpy array\n",
        "x_test=np.array(x_test)"
      ],
      "execution_count": 36,
      "outputs": []
    },
    {
      "cell_type": "code",
      "metadata": {
        "id": "KAgpOyC-UU6r"
      },
      "source": [
        "#reshape the data\n",
        "x_test=np.reshape(x_test,(x_test.shape[0],x_test.shape[1],1))"
      ],
      "execution_count": 37,
      "outputs": []
    },
    {
      "cell_type": "markdown",
      "metadata": {
        "id": "nKKNNRPf6TaM"
      },
      "source": [
        "**Get the models predicted price values**"
      ]
    },
    {
      "cell_type": "code",
      "metadata": {
        "id": "dmxfhHWtUWe4"
      },
      "source": [
        "#get the  models predicted price values\n",
        "predictions=model.predict(x_test)\n",
        "predictions=scaler.inverse_transform(predictions)"
      ],
      "execution_count": 38,
      "outputs": []
    },
    {
      "cell_type": "markdown",
      "metadata": {
        "id": "aUcMCfpf6e_J"
      },
      "source": [
        "#Evaluating the model"
      ]
    },
    {
      "cell_type": "code",
      "metadata": {
        "colab": {
          "base_uri": "https://localhost:8080/"
        },
        "id": "04tmc1RMUXvu",
        "outputId": "637089e0-0d25-4d28-9f8e-f5d90ca60e52"
      },
      "source": [
        "#evaluate the model by RMSE\n",
        "rmse=np.sqrt(np.mean(predictions-y_test)**2)\n",
        "rmse"
      ],
      "execution_count": 39,
      "outputs": [
        {
          "output_type": "execute_result",
          "data": {
            "text/plain": [
              "0.31753453758748384"
            ]
          },
          "metadata": {
            "tags": []
          },
          "execution_count": 39
        }
      ]
    },
    {
      "cell_type": "markdown",
      "metadata": {
        "id": "HlX2luf0z7jc"
      },
      "source": [
        "# Plotting the Graph"
      ]
    },
    {
      "cell_type": "code",
      "metadata": {
        "colab": {
          "base_uri": "https://localhost:8080/",
          "height": 588
        },
        "id": "v5RPv_-h0Crr",
        "outputId": "41088d1a-f65c-4719-9617-72cfb4a64672"
      },
      "source": [
        "#plot the data\n",
        "train=data[:training_data_len]\n",
        "valid=data[training_data_len:]\n",
        "valid['predictions']=predictions\n",
        "\n",
        "#visulaization of data\n",
        "plt.figure(figsize=(18,8))\n",
        "plt.title('Graph')\n",
        "plt.xlabel('Date',fontsize=18)\n",
        "plt.ylabel('Close Price USD($',fontsize=18)\n",
        "plt.plot(train['close'])\n",
        "#plt.xlim(1990,2020)\n",
        "plt.plot(valid[['close','predictions']])\n",
        "plt.legend(['Train','Valid','Predictions'],loc='lower right')\n",
        "plt.show()"
      ],
      "execution_count": 40,
      "outputs": [
        {
          "output_type": "stream",
          "text": [
            "/usr/local/lib/python3.7/dist-packages/ipykernel_launcher.py:4: SettingWithCopyWarning: \n",
            "A value is trying to be set on a copy of a slice from a DataFrame.\n",
            "Try using .loc[row_indexer,col_indexer] = value instead\n",
            "\n",
            "See the caveats in the documentation: https://pandas.pydata.org/pandas-docs/stable/user_guide/indexing.html#returning-a-view-versus-a-copy\n",
            "  after removing the cwd from sys.path.\n"
          ],
          "name": "stderr"
        },
        {
          "output_type": "display_data",
          "data": {
            "image/png": "[encoded data removed]",
            "text/plain": [
              "<Figure size 1296x576 with 1 Axes>"
            ]
          },
          "metadata": {
            "tags": [],
            "needs_background": "light"
          }
        }
      ]
    },
    {
      "cell_type": "markdown",
      "metadata": {
        "id": "B5azbUUf0J_J"
      },
      "source": [
        "\n",
        "\n",
        "**Showing the validation and predicted prices**"
      ]
    },
    {
      "cell_type": "code",
      "metadata": {
        "colab": {
          "base_uri": "https://localhost:8080/",
          "height": 417
        },
        "id": "Ue0I70VJ0FzT",
        "outputId": "b97b6f60-f741-4b25-d10d-6abbd970a324"
      },
      "source": [
        "valid"
      ],
      "execution_count": 41,
      "outputs": [
        {
          "output_type": "execute_result",
          "data": {
            "text/html": [
              "<div>\n",
              "<style scoped>\n",
              "    .dataframe tbody tr th:only-of-type {\n",
              "        vertical-align: middle;\n",
              "    }\n",
              "\n",
              "    .dataframe tbody tr th {\n",
              "        vertical-align: top;\n",
              "    }\n",
              "\n",
              "    .dataframe thead th {\n",
              "        text-align: right;\n",
              "    }\n",
              "</style>\n",
              "<table border=\"1\" class=\"dataframe\">\n",
              "  <thead>\n",
              "    <tr style=\"text-align: right;\">\n",
              "      <th></th>\n",
              "      <th>close</th>\n",
              "      <th>predictions</th>\n",
              "    </tr>\n",
              "  </thead>\n",
              "  <tbody>\n",
              "    <tr>\n",
              "      <th>7000</th>\n",
              "      <td>52.30</td>\n",
              "      <td>52.125294</td>\n",
              "    </tr>\n",
              "    <tr>\n",
              "      <th>7001</th>\n",
              "      <td>51.79</td>\n",
              "      <td>52.034550</td>\n",
              "    </tr>\n",
              "    <tr>\n",
              "      <th>7002</th>\n",
              "      <td>51.55</td>\n",
              "      <td>51.611668</td>\n",
              "    </tr>\n",
              "    <tr>\n",
              "      <th>7003</th>\n",
              "      <td>51.92</td>\n",
              "      <td>51.354618</td>\n",
              "    </tr>\n",
              "    <tr>\n",
              "      <th>7004</th>\n",
              "      <td>49.98</td>\n",
              "      <td>51.520721</td>\n",
              "    </tr>\n",
              "    <tr>\n",
              "      <th>...</th>\n",
              "      <td>...</td>\n",
              "      <td>...</td>\n",
              "    </tr>\n",
              "    <tr>\n",
              "      <th>9995</th>\n",
              "      <td>46.50</td>\n",
              "      <td>46.537224</td>\n",
              "    </tr>\n",
              "    <tr>\n",
              "      <th>9996</th>\n",
              "      <td>46.69</td>\n",
              "      <td>46.629658</td>\n",
              "    </tr>\n",
              "    <tr>\n",
              "      <th>9997</th>\n",
              "      <td>47.25</td>\n",
              "      <td>46.758827</td>\n",
              "    </tr>\n",
              "    <tr>\n",
              "      <th>9998</th>\n",
              "      <td>45.75</td>\n",
              "      <td>47.172478</td>\n",
              "    </tr>\n",
              "    <tr>\n",
              "      <th>9999</th>\n",
              "      <td>46.19</td>\n",
              "      <td>46.298378</td>\n",
              "    </tr>\n",
              "  </tbody>\n",
              "</table>\n",
              "<p>3000 rows × 2 columns</p>\n",
              "</div>"
            ],
            "text/plain": [
              "      close  predictions\n",
              "7000  52.30    52.125294\n",
              "7001  51.79    52.034550\n",
              "7002  51.55    51.611668\n",
              "7003  51.92    51.354618\n",
              "7004  49.98    51.520721\n",
              "...     ...          ...\n",
              "9995  46.50    46.537224\n",
              "9996  46.69    46.629658\n",
              "9997  47.25    46.758827\n",
              "9998  45.75    47.172478\n",
              "9999  46.19    46.298378\n",
              "\n",
              "[3000 rows x 2 columns]"
            ]
          },
          "metadata": {
            "tags": []
          },
          "execution_count": 41
        }
      ]
    },
    {
      "cell_type": "code",
      "metadata": {
        "id": "NB9zc0sP9bBU"
      },
      "source": [
        ""
      ],
      "execution_count": null,
      "outputs": []
    }
  ]
}